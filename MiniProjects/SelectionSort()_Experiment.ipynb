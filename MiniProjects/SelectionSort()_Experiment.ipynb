{
 "cells": [
  {
   "cell_type": "markdown",
   "metadata": {},
   "source": [
    "## selectionSort() Experiment"
   ]
  },
  {
   "cell_type": "code",
   "execution_count": 2,
   "metadata": {},
   "outputs": [],
   "source": [
    "# import modules for use\n",
    "import numpy as np\n",
    "import pandas as pd\n",
    "import matplotlib.pyplot as plt\n",
    "import seaborn as sns\n",
    "from timeit import default_timer as timer\n",
    "import math\n",
    "import random\n",
    "import array as arr"
   ]
  },
  {
   "cell_type": "markdown",
   "metadata": {},
   "source": [
    "The following two cells comprise of two functions. The first function finds the smallest element in a list. The second function sorts the list. The second function's performance will be tested against two built-in Python sorting functions. "
   ]
  },
  {
   "cell_type": "code",
   "execution_count": 20,
   "metadata": {},
   "outputs": [],
   "source": [
    "# find smallest of a list \n",
    "def findSmallest(arr):\n",
    "    smallest = arr[0]\n",
    "    smallest_index = 0\n",
    "    for i in range(1, len(arr)):\n",
    "        if arr[i] < smallest:\n",
    "            smallest = arr[i]\n",
    "            smallest_index = i\n",
    "    return smallest_index"
   ]
  },
  {
   "cell_type": "code",
   "execution_count": 21,
   "metadata": {},
   "outputs": [],
   "source": [
    "# selection sort algorithm\n",
    "def selectionSort(arr):\n",
    "    newArr = []\n",
    "    for i in range(len(arr)):\n",
    "        smallest = findSmallest(arr)\n",
    "        newArr.append(arr.pop(smallest))\n",
    "    return newArr"
   ]
  },
  {
   "cell_type": "markdown",
   "metadata": {},
   "source": [
    "The following cells create five random lists of various lengths. Following the random lists is a list of the lists and lists for tracking performance and the length of each random list. The list of lists will be used in a loop to measure the selectionSort() algorithm performance against the built-in Python functions. "
   ]
  },
  {
   "cell_type": "code",
   "execution_count": 34,
   "metadata": {},
   "outputs": [],
   "source": [
    "# create 5 lists, seed set at 32 for all\n",
    "random.seed(32)\n",
    "a = [random.uniform(1, 5000) for i in range(5000)]"
   ]
  },
  {
   "cell_type": "code",
   "execution_count": 35,
   "metadata": {},
   "outputs": [],
   "source": [
    "random.seed(32)\n",
    "b = [random.uniform(1, 10000) for i in range(10000)]"
   ]
  },
  {
   "cell_type": "code",
   "execution_count": 36,
   "metadata": {},
   "outputs": [],
   "source": [
    "random.seed(32)\n",
    "c = [random.uniform(1, 15000) for i in range(15000)]"
   ]
  },
  {
   "cell_type": "code",
   "execution_count": 37,
   "metadata": {},
   "outputs": [],
   "source": [
    "random.seed(32)\n",
    "d = [random.uniform(1, 20000) for i in range(20000)]"
   ]
  },
  {
   "cell_type": "code",
   "execution_count": 38,
   "metadata": {},
   "outputs": [],
   "source": [
    "random.seed(32)\n",
    "e = [random.uniform(1, 25000) for i in range(25000)]"
   ]
  },
  {
   "cell_type": "code",
   "execution_count": 39,
   "metadata": {},
   "outputs": [],
   "source": [
    "# create list of the lists for a loop\n",
    "arrays = [a,b,c,d,e]"
   ]
  },
  {
   "cell_type": "code",
   "execution_count": 40,
   "metadata": {},
   "outputs": [],
   "source": [
    "# lists for tracking data\n",
    "lengths = []\n",
    "sel_sort_times = []\n",
    "py_sort_times = []\n",
    "py_sorted_times = []"
   ]
  },
  {
   "cell_type": "markdown",
   "metadata": {},
   "source": [
    "The following cell loops through each list from the list of lists. The list's length is captured, and the performance of the different functions are measured. The performance data and list's length is appended to the data tracking lists in the above cell. "
   ]
  },
  {
   "cell_type": "code",
   "execution_count": 41,
   "metadata": {},
   "outputs": [],
   "source": [
    "# loop through each list, perform algorithms, and gather performance data\n",
    "for item in arrays:\n",
    "    arr1 = item\n",
    "    arr2 = item\n",
    "    length = len(item)\n",
    "    lengths.append(length)\n",
    "    start1 = timer()\n",
    "    selectionSort(item)\n",
    "    end1 = timer()\n",
    "    sel_sort_speed = (end1 - start1) * 1000\n",
    "    sel_sort_times.append(sel_sort_speed)\n",
    "    start2 = timer()\n",
    "    arr1.sort()\n",
    "    end2 = timer()\n",
    "    py_sort_speed = (end2 - start2) * 1000\n",
    "    py_sort_times.append(py_sort_speed)\n",
    "    start3 = timer()\n",
    "    sorted(arr2)\n",
    "    end3 = timer()\n",
    "    py_sorted_speed = (end3 - start3) * 1000\n",
    "    py_sorted_times.append(py_sorted_speed)"
   ]
  },
  {
   "cell_type": "code",
   "execution_count": 42,
   "metadata": {},
   "outputs": [
    {
     "data": {
      "text/html": [
       "<div>\n",
       "<style scoped>\n",
       "    .dataframe tbody tr th:only-of-type {\n",
       "        vertical-align: middle;\n",
       "    }\n",
       "\n",
       "    .dataframe tbody tr th {\n",
       "        vertical-align: top;\n",
       "    }\n",
       "\n",
       "    .dataframe thead th {\n",
       "        text-align: right;\n",
       "    }\n",
       "</style>\n",
       "<table border=\"1\" class=\"dataframe\">\n",
       "  <thead>\n",
       "    <tr style=\"text-align: right;\">\n",
       "      <th></th>\n",
       "      <th>List_Length</th>\n",
       "      <th>Selection_Sort_Time</th>\n",
       "      <th>Py_Sort_Time</th>\n",
       "      <th>Py_Sorted_Time</th>\n",
       "    </tr>\n",
       "  </thead>\n",
       "  <tbody>\n",
       "    <tr>\n",
       "      <th>0</th>\n",
       "      <td>5000</td>\n",
       "      <td>2403.4073</td>\n",
       "      <td>0.0045</td>\n",
       "      <td>0.0072</td>\n",
       "    </tr>\n",
       "    <tr>\n",
       "      <th>1</th>\n",
       "      <td>10000</td>\n",
       "      <td>8675.7183</td>\n",
       "      <td>0.0051</td>\n",
       "      <td>0.0071</td>\n",
       "    </tr>\n",
       "    <tr>\n",
       "      <th>2</th>\n",
       "      <td>15000</td>\n",
       "      <td>19450.8598</td>\n",
       "      <td>0.0048</td>\n",
       "      <td>0.0078</td>\n",
       "    </tr>\n",
       "    <tr>\n",
       "      <th>3</th>\n",
       "      <td>20000</td>\n",
       "      <td>35015.3493</td>\n",
       "      <td>0.0066</td>\n",
       "      <td>0.0096</td>\n",
       "    </tr>\n",
       "    <tr>\n",
       "      <th>4</th>\n",
       "      <td>25000</td>\n",
       "      <td>55073.9713</td>\n",
       "      <td>0.0066</td>\n",
       "      <td>0.0099</td>\n",
       "    </tr>\n",
       "  </tbody>\n",
       "</table>\n",
       "</div>"
      ],
      "text/plain": [
       "   List_Length  Selection_Sort_Time  Py_Sort_Time  Py_Sorted_Time\n",
       "0         5000            2403.4073        0.0045          0.0072\n",
       "1        10000            8675.7183        0.0051          0.0071\n",
       "2        15000           19450.8598        0.0048          0.0078\n",
       "3        20000           35015.3493        0.0066          0.0096\n",
       "4        25000           55073.9713        0.0066          0.0099"
      ]
     },
     "execution_count": 42,
     "metadata": {},
     "output_type": "execute_result"
    }
   ],
   "source": [
    "# create a df for analysis of results\n",
    "data = list(zip(lengths, sel_sort_times, py_sort_times, py_sorted_times))\n",
    "df = pd.DataFrame(data, columns=['List_Length','Selection_Sort_Time','Py_Sort_Time','Py_Sorted_Time'])\n",
    "df"
   ]
  },
  {
   "cell_type": "markdown",
   "metadata": {},
   "source": [
    "The above cell is a dataframe with all the list lengths and performance times for each function on each list. Below are scatterplot visualizations which capture performance based on the list size. "
   ]
  },
  {
   "cell_type": "code",
   "execution_count": 43,
   "metadata": {},
   "outputs": [
    {
     "data": {
      "image/png": "[encoded data removed]",
      "text/plain": [
       "<Figure size 432x288 with 1 Axes>"
      ]
     },
     "metadata": {
      "needs_background": "light"
     },
     "output_type": "display_data"
    }
   ],
   "source": [
    "# scatterplots to visualize results\n",
    "sns.lineplot(x = df['List_Length'], y = df['Selection_Sort_Time']).set_title('Length vs Selection Sort Time')\n",
    "plt.show()"
   ]
  },
  {
   "cell_type": "code",
   "execution_count": 44,
   "metadata": {},
   "outputs": [
    {
     "data": {
      "image/png": "[encoded data removed]",
      "text/plain": [
       "<Figure size 432x288 with 1 Axes>"
      ]
     },
     "metadata": {
      "needs_background": "light"
     },
     "output_type": "display_data"
    }
   ],
   "source": [
    "sns.lineplot(df['List_Length'], df['Py_Sort_Time']).set_title('Length vs Python .sort() Time')\n",
    "plt.show()"
   ]
  },
  {
   "cell_type": "code",
   "execution_count": 45,
   "metadata": {},
   "outputs": [
    {
     "data": {
      "image/png": "[encoded data removed]",
      "text/plain": [
       "<Figure size 432x288 with 1 Axes>"
      ]
     },
     "metadata": {
      "needs_background": "light"
     },
     "output_type": "display_data"
    }
   ],
   "source": [
    "sns.lineplot(df['List_Length'], df['Py_Sorted_Time']).set_title('Length vs Python sorted() Time')\n",
    "plt.show()"
   ]
  },
  {
   "cell_type": "markdown",
   "metadata": {},
   "source": [
    "## Executive Summary\n",
    "\n",
    "In this experiment we tested the built-in sort() function and sorted() function, and the user-defined selectionSort() function. I have provided a data table (dataframe) that provides the processing speed results of each operation in milliseconds. The scatterplots below the data table also visualize the results of the experiment.\n",
    "\n",
    "The table and visualizations demonstrate the differences in processing times of each sorting algorithm. For the selectionSort() algorithm, the time increases as the list size increases. The differences in processing times for the selectionSort() algorithm and the built-in functions are significant. \n",
    "\n",
    "The selectionSort() algorithm searches through a list to find the smallest value index, and creates a new list beginning with the smallest value of the list that is being sorted. The selectionSort() algorithm has a BigO notation of O(n^2). \n",
    "\n",
    "The BigO notation for the sorted() function and sort() function is O(n log n). These functions are significantly less complex than the selectionSort() algorithm. In BigO notation, (n log n) is more efficient than (n^2). This is well represented in the visualizations shared above. \n",
    "\n",
    "The selectionSort() algorithm is useful to data engineers as they can arrange lists. However, the sorted() and sort() functions are much more efficient and achieve the same results. The processing time for large lists using the selectionSort() algorithm may pose a challenge. On the other hand, we could utilize sorted() or sort() with much more efficiency. "
   ]
  }
 ],
 "metadata": {
  "kernelspec": {
   "display_name": "Python 3",
   "language": "python",
   "name": "python3"
  },
  "language_info": {
   "codemirror_mode": {
    "name": "ipython",
    "version": 3
   },
   "file_extension": ".py",
   "mimetype": "text/x-python",
   "name": "python",
   "nbconvert_exporter": "python",
   "pygments_lexer": "ipython3",
   "version": "3.7.3"
  }
 },
 "nbformat": 4,
 "nbformat_minor": 2
}
