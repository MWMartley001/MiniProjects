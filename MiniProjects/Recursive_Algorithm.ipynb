{
 "cells": [
  {
   "cell_type": "markdown",
   "metadata": {},
   "source": [
    "## Implement a Recursive Algorithm"
   ]
  },
  {
   "cell_type": "code",
   "execution_count": 1,
   "metadata": {},
   "outputs": [],
   "source": [
    "# import modules for use\n",
    "import numpy as np\n",
    "import pandas as pd\n",
    "import matplotlib.pyplot as plt\n",
    "import seaborn as sns\n",
    "from timeit import default_timer as timer\n",
    "import math\n",
    "import random\n",
    "import array as arr\n",
    "from decimal import Decimal"
   ]
  },
  {
   "cell_type": "markdown",
   "metadata": {},
   "source": [
    "The following two cells comprise of two functions. The first function is a recursive factorial function. The second function is an iterative factorial function. "
   ]
  },
  {
   "cell_type": "code",
   "execution_count": 2,
   "metadata": {},
   "outputs": [],
   "source": [
    "# recursive factorial function\n",
    "def fact(x):\n",
    "    if x == 1:\n",
    "        return x\n",
    "    else:\n",
    "        return x * fact(x - 1)"
   ]
  },
  {
   "cell_type": "code",
   "execution_count": 3,
   "metadata": {},
   "outputs": [],
   "source": [
    "# loop factorial function\n",
    "def loop_fact(x):\n",
    "    result = 1\n",
    "    for i in range(1, x + 1):\n",
    "        result = i * result \n",
    "    return result"
   ]
  },
  {
   "cell_type": "markdown",
   "metadata": {},
   "source": [
    "The following cell creates an array of five random integers that will be used for testing the functions."
   ]
  },
  {
   "cell_type": "code",
   "execution_count": 26,
   "metadata": {},
   "outputs": [],
   "source": [
    "# create an arry of 10 integers\n",
    "a = np.random.randint(low=100, high=500, size=10)"
   ]
  },
  {
   "cell_type": "code",
   "execution_count": 27,
   "metadata": {},
   "outputs": [],
   "source": [
    "# lists for tracking data\n",
    "numbers = []\n",
    "fact_times = []\n",
    "loop_fact_times = []"
   ]
  },
  {
   "cell_type": "markdown",
   "metadata": {},
   "source": [
    "The following cell loops through the array of random integers. The integer value is captured in the numbers list, and the performance of the different functions are measured. The performance data and integer value is appended to the data tracking lists in the above cell. "
   ]
  },
  {
   "cell_type": "code",
   "execution_count": 28,
   "metadata": {},
   "outputs": [
    {
     "name": "stderr",
     "output_type": "stream",
     "text": [
      "C:\\Users\\martl\\Anaconda3\\lib\\site-packages\\ipykernel_launcher.py:6: RuntimeWarning: overflow encountered in long_scalars\n",
      "  \n"
     ]
    }
   ],
   "source": [
    "# loop through each list, perform algorithms, and gather performance data\n",
    "for item in a:\n",
    "    numbers.append(item)\n",
    "    start1 = timer()\n",
    "    fact(item)\n",
    "    end1 = timer()\n",
    "    fact_time = (end1 - start1) * 1000\n",
    "    fact_times.append(fact_time)\n",
    "    start2 = timer()\n",
    "    loop_fact(item)\n",
    "    end2 = timer()\n",
    "    loop_time = (end2 - start2) * 1000\n",
    "    loop_fact_times.append(loop_time)"
   ]
  },
  {
   "cell_type": "code",
   "execution_count": 29,
   "metadata": {},
   "outputs": [],
   "source": [
    "# create a df for analysis of results\n",
    "data = list(zip(numbers, fact_times, loop_fact_times))\n",
    "df = pd.DataFrame(data, columns=['Number','Recursive_Time','Loop_Time'])\n",
    "df['Difference: Recursive vs. Loop'] = df['Recursive_Time'] - df['Loop_Time']"
   ]
  },
  {
   "cell_type": "code",
   "execution_count": 30,
   "metadata": {},
   "outputs": [],
   "source": [
    "# get the factorial values\n",
    "factorials = []\n",
    "for item in a:\n",
    "    result = loop_fact(item)\n",
    "    result = str(result)\n",
    "    factorials.append(result)"
   ]
  },
  {
   "cell_type": "code",
   "execution_count": 31,
   "metadata": {},
   "outputs": [
    {
     "data": {
      "text/html": [
       "<div>\n",
       "<style scoped>\n",
       "    .dataframe tbody tr th:only-of-type {\n",
       "        vertical-align: middle;\n",
       "    }\n",
       "\n",
       "    .dataframe tbody tr th {\n",
       "        vertical-align: top;\n",
       "    }\n",
       "\n",
       "    .dataframe thead th {\n",
       "        text-align: right;\n",
       "    }\n",
       "</style>\n",
       "<table border=\"1\" class=\"dataframe\">\n",
       "  <thead>\n",
       "    <tr style=\"text-align: right;\">\n",
       "      <th></th>\n",
       "      <th>Number</th>\n",
       "      <th>Recursive_Time</th>\n",
       "      <th>Loop_Time</th>\n",
       "      <th>Difference: Recursive vs. Loop</th>\n",
       "      <th>Factorial</th>\n",
       "    </tr>\n",
       "  </thead>\n",
       "  <tbody>\n",
       "    <tr>\n",
       "      <th>2</th>\n",
       "      <td>135</td>\n",
       "      <td>0.4291</td>\n",
       "      <td>0.0395</td>\n",
       "      <td>0.3896</td>\n",
       "      <td>2690472707318050483595387662146980401050453893...</td>\n",
       "    </tr>\n",
       "    <tr>\n",
       "      <th>6</th>\n",
       "      <td>200</td>\n",
       "      <td>0.5456</td>\n",
       "      <td>0.0629</td>\n",
       "      <td>0.4827</td>\n",
       "      <td>7886578673647905035523632139321850622951359776...</td>\n",
       "    </tr>\n",
       "    <tr>\n",
       "      <th>3</th>\n",
       "      <td>221</td>\n",
       "      <td>0.5923</td>\n",
       "      <td>0.0711</td>\n",
       "      <td>0.5212</td>\n",
       "      <td>5047331342371357620847957561904887536764970488...</td>\n",
       "    </tr>\n",
       "    <tr>\n",
       "      <th>8</th>\n",
       "      <td>242</td>\n",
       "      <td>0.6498</td>\n",
       "      <td>0.0806</td>\n",
       "      <td>0.5692</td>\n",
       "      <td>2372472101786237237034263348929581250598543735...</td>\n",
       "    </tr>\n",
       "    <tr>\n",
       "      <th>4</th>\n",
       "      <td>276</td>\n",
       "      <td>0.6976</td>\n",
       "      <td>0.0964</td>\n",
       "      <td>0.6012</td>\n",
       "      <td>2788080104957639191680903001314480365358208808...</td>\n",
       "    </tr>\n",
       "    <tr>\n",
       "      <th>0</th>\n",
       "      <td>326</td>\n",
       "      <td>1.6470</td>\n",
       "      <td>0.1520</td>\n",
       "      <td>1.4950</td>\n",
       "      <td>2425192809059758909257722451160643102411732991...</td>\n",
       "    </tr>\n",
       "    <tr>\n",
       "      <th>1</th>\n",
       "      <td>382</td>\n",
       "      <td>1.0212</td>\n",
       "      <td>0.1684</td>\n",
       "      <td>0.8528</td>\n",
       "      <td>1373817050823815649570746947716664073182055821...</td>\n",
       "    </tr>\n",
       "    <tr>\n",
       "      <th>5</th>\n",
       "      <td>416</td>\n",
       "      <td>1.0169</td>\n",
       "      <td>0.1856</td>\n",
       "      <td>0.8313</td>\n",
       "      <td>3846313387719957490284353898010643560199216596...</td>\n",
       "    </tr>\n",
       "    <tr>\n",
       "      <th>9</th>\n",
       "      <td>432</td>\n",
       "      <td>1.0544</td>\n",
       "      <td>0.1967</td>\n",
       "      <td>0.8577</td>\n",
       "      <td>4272460196051823417128660566122021110719856138...</td>\n",
       "    </tr>\n",
       "    <tr>\n",
       "      <th>7</th>\n",
       "      <td>489</td>\n",
       "      <td>2.6685</td>\n",
       "      <td>0.2896</td>\n",
       "      <td>2.3789</td>\n",
       "      <td>2791572009766702095455085179310356945791071480...</td>\n",
       "    </tr>\n",
       "  </tbody>\n",
       "</table>\n",
       "</div>"
      ],
      "text/plain": [
       "   Number  Recursive_Time  Loop_Time  Difference: Recursive vs. Loop  \\\n",
       "2     135          0.4291     0.0395                          0.3896   \n",
       "6     200          0.5456     0.0629                          0.4827   \n",
       "3     221          0.5923     0.0711                          0.5212   \n",
       "8     242          0.6498     0.0806                          0.5692   \n",
       "4     276          0.6976     0.0964                          0.6012   \n",
       "0     326          1.6470     0.1520                          1.4950   \n",
       "1     382          1.0212     0.1684                          0.8528   \n",
       "5     416          1.0169     0.1856                          0.8313   \n",
       "9     432          1.0544     0.1967                          0.8577   \n",
       "7     489          2.6685     0.2896                          2.3789   \n",
       "\n",
       "                                           Factorial  \n",
       "2  2690472707318050483595387662146980401050453893...  \n",
       "6  7886578673647905035523632139321850622951359776...  \n",
       "3  5047331342371357620847957561904887536764970488...  \n",
       "8  2372472101786237237034263348929581250598543735...  \n",
       "4  2788080104957639191680903001314480365358208808...  \n",
       "0  2425192809059758909257722451160643102411732991...  \n",
       "1  1373817050823815649570746947716664073182055821...  \n",
       "5  3846313387719957490284353898010643560199216596...  \n",
       "9  4272460196051823417128660566122021110719856138...  \n",
       "7  2791572009766702095455085179310356945791071480...  "
      ]
     },
     "execution_count": 31,
     "metadata": {},
     "output_type": "execute_result"
    }
   ],
   "source": [
    "# add the factorial column and sort by the number\n",
    "df['Factorial'] = factorials\n",
    "df = df.sort_values(by='Number')\n",
    "df"
   ]
  },
  {
   "cell_type": "markdown",
   "metadata": {},
   "source": [
    "The above cell is a dataframe with the performance times for each function, recursive time - loop time, the number, and the factorial. The plot below captures the results. "
   ]
  },
  {
   "cell_type": "code",
   "execution_count": 32,
   "metadata": {},
   "outputs": [
    {
     "data": {
      "image/png": "[encoded data removed]",
      "text/plain": [
       "<Figure size 576x288 with 1 Axes>"
      ]
     },
     "metadata": {
      "needs_background": "light"
     },
     "output_type": "display_data"
    }
   ],
   "source": [
    "# plot to visualize results\n",
    "plt.figure(figsize = (8,4))\n",
    "plt.plot('Number', 'Recursive_Time', data=df, marker='o', markerfacecolor='blue', markersize=12, color='skyblue', linewidth=4)\n",
    "plt.plot('Number', 'Loop_Time', data=df, marker='x', markerfacecolor='red', markersize=12, color='red', linewidth=4)\n",
    "plt.title('Recursive vs. Loop Time')\n",
    "plt.xlabel('Number')\n",
    "plt.ylabel('Speed in Milliseconds')\n",
    "plt.legend()\n",
    "plt.show()"
   ]
  },
  {
   "cell_type": "markdown",
   "metadata": {},
   "source": [
    "## Executive Summary\n",
    "\n",
    "In this experiment we tested the recursive and iterative factorial functions - both user defined. I have provided a data table (dataframe) that provides the processing speed results of each function in milliseconds. The plots below the data table visualize the results of the experiment.\n",
    "\n",
    "The table and visualizations demonstrate the differences in processing times of each algorithm. The differences in processing time for each function are significantly different. \n",
    "\n",
    "The fact() function utilizes recursiveness, meaning it calls itself during the function, while the loop_fact() function is an iterator, it repeats a process until it meets a stopping point. The fact() function has a BigO notation of O(n), while the loop_fact() function also has a BigO notation of O(n). \n",
    "\n",
    "While the BigO notations are the same, it is obvious that the loop_fact() function performs faster. This is since the fact() function calls itself multiple times, occupying storage space (memory) in what's called a stack.\n",
    "\n",
    "The recursive algorithm is useful to data engineers as it is an efficient programming method. However, iterative functions can accomplish the same as recursive functions and vice versa. "
   ]
  }
 ],
 "metadata": {
  "kernelspec": {
   "display_name": "Python 3",
   "language": "python",
   "name": "python3"
  },
  "language_info": {
   "codemirror_mode": {
    "name": "ipython",
    "version": 3
   },
   "file_extension": ".py",
   "mimetype": "text/x-python",
   "name": "python",
   "nbconvert_exporter": "python",
   "pygments_lexer": "ipython3",
   "version": "3.7.3"
  }
 },
 "nbformat": 4,
 "nbformat_minor": 2
}
