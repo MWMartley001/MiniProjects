{
 "cells": [
  {
   "cell_type": "markdown",
   "metadata": {},
   "source": [
    "## Predicting NYC Yellow Taxi Fares\n",
    "Analysis of NYC Yellow Taxi from January through June 2017. The purpose of this analysis is to identify trends and attempt to predict price of a trip using Yellow Taxi. Random samples of 1000 rows were taken from each month's full dataset. The source of the data is http://www.nyc.gov/html/tlc/html/about/trip_record_data.shtml. "
   ]
  },
  {
   "cell_type": "markdown",
   "metadata": {},
   "source": [
    "## Setup and EDA"
   ]
  },
  {
   "cell_type": "code",
   "execution_count": 31,
   "metadata": {},
   "outputs": [
    {
     "name": "stdout",
     "output_type": "stream",
     "text": [
      "Index(['VendorID', 'tpep_pickup_datetime', 'tpep_dropoff_datetime',\n",
      "       'passenger_count', 'trip_distance', 'RatecodeID', 'PULocationID',\n",
      "       'DOLocationID', 'payment_type', 'fare_amount', 'extra', 'mta_tax',\n",
      "       'tip_amount', 'tolls_amount', 'improvement_surcharge', 'total_amount'],\n",
      "      dtype='object')\n"
     ]
    },
    {
     "data": {
      "text/html": [
       "<div>\n",
       "<style scoped>\n",
       "    .dataframe tbody tr th:only-of-type {\n",
       "        vertical-align: middle;\n",
       "    }\n",
       "\n",
       "    .dataframe tbody tr th {\n",
       "        vertical-align: top;\n",
       "    }\n",
       "\n",
       "    .dataframe thead th {\n",
       "        text-align: right;\n",
       "    }\n",
       "</style>\n",
       "<table border=\"1\" class=\"dataframe\">\n",
       "  <thead>\n",
       "    <tr style=\"text-align: right;\">\n",
       "      <th></th>\n",
       "      <th>VendorID</th>\n",
       "      <th>passenger_count</th>\n",
       "      <th>trip_distance</th>\n",
       "      <th>RatecodeID</th>\n",
       "      <th>PULocationID</th>\n",
       "      <th>DOLocationID</th>\n",
       "      <th>payment_type</th>\n",
       "      <th>fare_amount</th>\n",
       "      <th>extra</th>\n",
       "      <th>mta_tax</th>\n",
       "      <th>tip_amount</th>\n",
       "      <th>tolls_amount</th>\n",
       "      <th>improvement_surcharge</th>\n",
       "      <th>total_amount</th>\n",
       "    </tr>\n",
       "  </thead>\n",
       "  <tbody>\n",
       "    <tr>\n",
       "      <th>count</th>\n",
       "      <td>6000.000000</td>\n",
       "      <td>6000.000000</td>\n",
       "      <td>6000.000000</td>\n",
       "      <td>6000.000000</td>\n",
       "      <td>6000.000000</td>\n",
       "      <td>6000.000000</td>\n",
       "      <td>6000.000000</td>\n",
       "      <td>6000.000000</td>\n",
       "      <td>6000.000000</td>\n",
       "      <td>6000.000000</td>\n",
       "      <td>6000.000000</td>\n",
       "      <td>6000.000000</td>\n",
       "      <td>6000.000000</td>\n",
       "      <td>6000.000000</td>\n",
       "    </tr>\n",
       "    <tr>\n",
       "      <th>mean</th>\n",
       "      <td>1.547000</td>\n",
       "      <td>1.661500</td>\n",
       "      <td>2.866147</td>\n",
       "      <td>1.039167</td>\n",
       "      <td>161.965000</td>\n",
       "      <td>158.882000</td>\n",
       "      <td>1.347000</td>\n",
       "      <td>12.657457</td>\n",
       "      <td>0.339920</td>\n",
       "      <td>0.497583</td>\n",
       "      <td>1.767413</td>\n",
       "      <td>0.302772</td>\n",
       "      <td>0.299550</td>\n",
       "      <td>15.869270</td>\n",
       "    </tr>\n",
       "    <tr>\n",
       "      <th>std</th>\n",
       "      <td>0.497828</td>\n",
       "      <td>1.296224</td>\n",
       "      <td>3.676199</td>\n",
       "      <td>0.279843</td>\n",
       "      <td>66.847943</td>\n",
       "      <td>70.485264</td>\n",
       "      <td>0.505932</td>\n",
       "      <td>11.485926</td>\n",
       "      <td>0.466225</td>\n",
       "      <td>0.038115</td>\n",
       "      <td>2.426411</td>\n",
       "      <td>1.409167</td>\n",
       "      <td>0.014994</td>\n",
       "      <td>14.053432</td>\n",
       "    </tr>\n",
       "    <tr>\n",
       "      <th>min</th>\n",
       "      <td>1.000000</td>\n",
       "      <td>1.000000</td>\n",
       "      <td>0.000000</td>\n",
       "      <td>1.000000</td>\n",
       "      <td>4.000000</td>\n",
       "      <td>1.000000</td>\n",
       "      <td>1.000000</td>\n",
       "      <td>-52.000000</td>\n",
       "      <td>-0.500000</td>\n",
       "      <td>-0.500000</td>\n",
       "      <td>-1.890000</td>\n",
       "      <td>0.000000</td>\n",
       "      <td>-0.300000</td>\n",
       "      <td>-52.800000</td>\n",
       "    </tr>\n",
       "    <tr>\n",
       "      <th>25%</th>\n",
       "      <td>1.000000</td>\n",
       "      <td>1.000000</td>\n",
       "      <td>0.960000</td>\n",
       "      <td>1.000000</td>\n",
       "      <td>113.000000</td>\n",
       "      <td>107.000000</td>\n",
       "      <td>1.000000</td>\n",
       "      <td>6.500000</td>\n",
       "      <td>0.000000</td>\n",
       "      <td>0.500000</td>\n",
       "      <td>0.000000</td>\n",
       "      <td>0.000000</td>\n",
       "      <td>0.300000</td>\n",
       "      <td>8.300000</td>\n",
       "    </tr>\n",
       "    <tr>\n",
       "      <th>50%</th>\n",
       "      <td>2.000000</td>\n",
       "      <td>1.000000</td>\n",
       "      <td>1.600000</td>\n",
       "      <td>1.000000</td>\n",
       "      <td>162.000000</td>\n",
       "      <td>161.000000</td>\n",
       "      <td>1.000000</td>\n",
       "      <td>9.000000</td>\n",
       "      <td>0.000000</td>\n",
       "      <td>0.500000</td>\n",
       "      <td>1.310000</td>\n",
       "      <td>0.000000</td>\n",
       "      <td>0.300000</td>\n",
       "      <td>11.750000</td>\n",
       "    </tr>\n",
       "    <tr>\n",
       "      <th>75%</th>\n",
       "      <td>2.000000</td>\n",
       "      <td>2.000000</td>\n",
       "      <td>3.000000</td>\n",
       "      <td>1.000000</td>\n",
       "      <td>233.000000</td>\n",
       "      <td>231.250000</td>\n",
       "      <td>2.000000</td>\n",
       "      <td>14.000000</td>\n",
       "      <td>0.500000</td>\n",
       "      <td>0.500000</td>\n",
       "      <td>2.350000</td>\n",
       "      <td>0.000000</td>\n",
       "      <td>0.300000</td>\n",
       "      <td>17.160000</td>\n",
       "    </tr>\n",
       "    <tr>\n",
       "      <th>max</th>\n",
       "      <td>2.000000</td>\n",
       "      <td>6.000000</td>\n",
       "      <td>46.180000</td>\n",
       "      <td>5.000000</td>\n",
       "      <td>265.000000</td>\n",
       "      <td>265.000000</td>\n",
       "      <td>4.000000</td>\n",
       "      <td>250.000000</td>\n",
       "      <td>4.500000</td>\n",
       "      <td>0.500000</td>\n",
       "      <td>46.960000</td>\n",
       "      <td>18.500000</td>\n",
       "      <td>0.300000</td>\n",
       "      <td>266.560000</td>\n",
       "    </tr>\n",
       "  </tbody>\n",
       "</table>\n",
       "</div>"
      ],
      "text/plain": [
       "          VendorID  passenger_count  trip_distance   RatecodeID  PULocationID  \\\n",
       "count  6000.000000      6000.000000    6000.000000  6000.000000   6000.000000   \n",
       "mean      1.547000         1.661500       2.866147     1.039167    161.965000   \n",
       "std       0.497828         1.296224       3.676199     0.279843     66.847943   \n",
       "min       1.000000         1.000000       0.000000     1.000000      4.000000   \n",
       "25%       1.000000         1.000000       0.960000     1.000000    113.000000   \n",
       "50%       2.000000         1.000000       1.600000     1.000000    162.000000   \n",
       "75%       2.000000         2.000000       3.000000     1.000000    233.000000   \n",
       "max       2.000000         6.000000      46.180000     5.000000    265.000000   \n",
       "\n",
       "       DOLocationID  payment_type  fare_amount        extra      mta_tax  \\\n",
       "count   6000.000000   6000.000000  6000.000000  6000.000000  6000.000000   \n",
       "mean     158.882000      1.347000    12.657457     0.339920     0.497583   \n",
       "std       70.485264      0.505932    11.485926     0.466225     0.038115   \n",
       "min        1.000000      1.000000   -52.000000    -0.500000    -0.500000   \n",
       "25%      107.000000      1.000000     6.500000     0.000000     0.500000   \n",
       "50%      161.000000      1.000000     9.000000     0.000000     0.500000   \n",
       "75%      231.250000      2.000000    14.000000     0.500000     0.500000   \n",
       "max      265.000000      4.000000   250.000000     4.500000     0.500000   \n",
       "\n",
       "        tip_amount  tolls_amount  improvement_surcharge  total_amount  \n",
       "count  6000.000000   6000.000000            6000.000000   6000.000000  \n",
       "mean      1.767413      0.302772               0.299550     15.869270  \n",
       "std       2.426411      1.409167               0.014994     14.053432  \n",
       "min      -1.890000      0.000000              -0.300000    -52.800000  \n",
       "25%       0.000000      0.000000               0.300000      8.300000  \n",
       "50%       1.310000      0.000000               0.300000     11.750000  \n",
       "75%       2.350000      0.000000               0.300000     17.160000  \n",
       "max      46.960000     18.500000               0.300000    266.560000  "
      ]
     },
     "execution_count": 31,
     "metadata": {},
     "output_type": "execute_result"
    }
   ],
   "source": [
    "import pandas as pd\n",
    "import numpy as np\n",
    "import math\n",
    "import matplotlib.pyplot as plt\n",
    "from scipy import stats\n",
    "import seaborn as sns\n",
    "jan = pd.read_excel(open('YellowTaxiJan2017Samp.xlsx','rb'))\n",
    "feb = pd.read_csv('YellowTaxiFeb2017Samp.csv')\n",
    "mar = pd.read_excel(open('YellowTaxiMar2017Samp.xlsx','rb'))\n",
    "apr = pd.read_excel(open('YellowTaxiApr2017Samp.xlsx', 'rb'))\n",
    "may = pd.read_csv('YellowTaxiMay2017Samp.csv')\n",
    "jun = pd.read_csv('YellowTaxiJune2017Samp.csv')\n",
    "# remove irrelevant columns\n",
    "# Note: some of this was cleaned up in Excel\n",
    "feb.drop(['store_and_fwd_flag'], axis = 1, inplace = True)\n",
    "jun.drop(['store_and_fwd_flag'], axis = 1, inplace = True)\n",
    "YelTax_2017_1sthalf = pd.concat([jan,feb,mar,apr,may,jun]).reset_index(drop=True)\n",
    "print(YelTax_2017_1sthalf.columns)\n",
    "YelTax_2017_1sthalf.describe()"
   ]
  },
  {
   "cell_type": "markdown",
   "metadata": {},
   "source": [
    "The mean fare amount is 12.81 and the mean distance traveled is 2.9 miles (based on the initial data). "
   ]
  },
  {
   "cell_type": "code",
   "execution_count": 32,
   "metadata": {},
   "outputs": [],
   "source": [
    "# Convert columns to snake case\n",
    "YelTax_2017_1sthalf.columns = ['vendor_ID', 'tpep_pickup_datetime', 'tpep_dropoff_datetime',\n",
    "       'passenger_count', 'trip_distance', 'rate_code_ID', 'pu_location_ID',\n",
    "       'do_location_ID', 'payment_type', 'fare_amount', 'extra', 'mta_tax',\n",
    "       'tip_amount', 'tolls_amount', 'improvement_surcharge', 'total_amount']"
   ]
  },
  {
   "cell_type": "code",
   "execution_count": 33,
   "metadata": {},
   "outputs": [
    {
     "name": "stdout",
     "output_type": "stream",
     "text": [
      "Standard Rate            5834\n",
      "JFK                       134\n",
      "Negotiated fare            16\n",
      "Newark                     11\n",
      "Nassau or Westchester       5\n",
      "dtype: int64\n"
     ]
    }
   ],
   "source": [
    "# Take a look at the rate code frequencies\n",
    "rate_codes = {1: 'Standard Rate', 2: 'JFK', 3: 'Newark', 4: 'Nassau or Westchester', 5:'Negotiated fare', 6:'Group ride'} # dictionary of values to convert\n",
    "rate_code_summary = pd.Series(YelTax_2017_1sthalf['rate_code_ID'].values) # create the series\n",
    "rate_code_summary.replace(rate_codes, inplace = True)\n",
    "print(rate_code_summary.value_counts())"
   ]
  },
  {
   "cell_type": "markdown",
   "metadata": {},
   "source": [
    "According to the sample data, there were no group rides. However, there were rides with more than 1 passenger in the sample data. For the majority of rides (5834 out of 6000), the standard rate was applied. "
   ]
  },
  {
   "cell_type": "code",
   "execution_count": 34,
   "metadata": {},
   "outputs": [
    {
     "name": "stdout",
     "output_type": "stream",
     "text": [
      "Credit Card    3989\n",
      "Cash           1957\n",
      "No Charge        37\n",
      "Dispute          17\n",
      "dtype: int64\n"
     ]
    }
   ],
   "source": [
    "# Look at pay type frequencies\n",
    "pay_type = {1: 'Credit Card', 2: 'Cash', 3: 'No Charge', 4: 'Dispute', 5:'Unknown', 6:'Voided Trip'} # dictionary of values to convert\n",
    "pay_type_summary = pd.Series(YelTax_2017_1sthalf['payment_type'].values) # create the series\n",
    "pay_type_summary.replace(pay_type, inplace = True)\n",
    "print(pay_type_summary.value_counts())"
   ]
  },
  {
   "cell_type": "code",
   "execution_count": 35,
   "metadata": {},
   "outputs": [
    {
     "data": {
      "image/png": "[encoded data removed]",
      "text/plain": [
       "<Figure size 432x288 with 1 Axes>"
      ]
     },
     "metadata": {},
     "output_type": "display_data"
    }
   ],
   "source": [
    "# Can payment type have a relationship with fare amount?\n",
    "c = sns.boxplot(x=\"payment_type\", y=\"fare_amount\", data=YelTax_2017_1sthalf)"
   ]
  },
  {
   "cell_type": "markdown",
   "metadata": {},
   "source": [
    "The above boxplot reveals that the method of payment would not be a good predictor of fare amount. "
   ]
  },
  {
   "cell_type": "code",
   "execution_count": 36,
   "metadata": {},
   "outputs": [],
   "source": [
    "# Create a cost per mile attribute to better understand how relevant attributes affect the fare amount.\n",
    "YelTax_2017_1sthalf['cost_per_mile'] = (YelTax_2017_1sthalf['fare_amount'])/(YelTax_2017_1sthalf['trip_distance'])"
   ]
  },
  {
   "cell_type": "code",
   "execution_count": 37,
   "metadata": {},
   "outputs": [
    {
     "data": {
      "text/html": [
       "<div>\n",
       "<style scoped>\n",
       "    .dataframe tbody tr th:only-of-type {\n",
       "        vertical-align: middle;\n",
       "    }\n",
       "\n",
       "    .dataframe tbody tr th {\n",
       "        vertical-align: top;\n",
       "    }\n",
       "\n",
       "    .dataframe thead th {\n",
       "        text-align: right;\n",
       "    }\n",
       "</style>\n",
       "<table border=\"1\" class=\"dataframe\">\n",
       "  <thead>\n",
       "    <tr style=\"text-align: right;\">\n",
       "      <th></th>\n",
       "      <th>vendor_ID</th>\n",
       "      <th>tpep_pickup_datetime</th>\n",
       "      <th>tpep_dropoff_datetime</th>\n",
       "      <th>passenger_count</th>\n",
       "      <th>trip_distance</th>\n",
       "      <th>rate_code_ID</th>\n",
       "      <th>pu_location_ID</th>\n",
       "      <th>do_location_ID</th>\n",
       "      <th>payment_type</th>\n",
       "      <th>fare_amount</th>\n",
       "      <th>extra</th>\n",
       "      <th>mta_tax</th>\n",
       "      <th>tip_amount</th>\n",
       "      <th>tolls_amount</th>\n",
       "      <th>improvement_surcharge</th>\n",
       "      <th>total_amount</th>\n",
       "      <th>cost_per_mile</th>\n",
       "    </tr>\n",
       "  </thead>\n",
       "  <tbody>\n",
       "    <tr>\n",
       "      <th>0</th>\n",
       "      <td>2</td>\n",
       "      <td>2017-01-16 16:29:48</td>\n",
       "      <td>2017-01-16 16:46:45</td>\n",
       "      <td>6</td>\n",
       "      <td>3.94</td>\n",
       "      <td>1</td>\n",
       "      <td>237</td>\n",
       "      <td>151</td>\n",
       "      <td>2</td>\n",
       "      <td>16.0</td>\n",
       "      <td>0.0</td>\n",
       "      <td>0.5</td>\n",
       "      <td>0.00</td>\n",
       "      <td>0.00</td>\n",
       "      <td>0.3</td>\n",
       "      <td>16.80</td>\n",
       "      <td>4.060914</td>\n",
       "    </tr>\n",
       "    <tr>\n",
       "      <th>1</th>\n",
       "      <td>2</td>\n",
       "      <td>2017-01-14 23:01:43</td>\n",
       "      <td>2017-01-14 23:37:37</td>\n",
       "      <td>1</td>\n",
       "      <td>19.49</td>\n",
       "      <td>2</td>\n",
       "      <td>141</td>\n",
       "      <td>132</td>\n",
       "      <td>1</td>\n",
       "      <td>52.0</td>\n",
       "      <td>0.0</td>\n",
       "      <td>0.5</td>\n",
       "      <td>10.00</td>\n",
       "      <td>5.54</td>\n",
       "      <td>0.3</td>\n",
       "      <td>68.34</td>\n",
       "      <td>2.668035</td>\n",
       "    </tr>\n",
       "    <tr>\n",
       "      <th>2</th>\n",
       "      <td>1</td>\n",
       "      <td>2017-01-01 11:28:26</td>\n",
       "      <td>2017-01-01 11:39:38</td>\n",
       "      <td>2</td>\n",
       "      <td>4.40</td>\n",
       "      <td>1</td>\n",
       "      <td>261</td>\n",
       "      <td>148</td>\n",
       "      <td>1</td>\n",
       "      <td>15.0</td>\n",
       "      <td>0.0</td>\n",
       "      <td>0.5</td>\n",
       "      <td>3.15</td>\n",
       "      <td>0.00</td>\n",
       "      <td>0.3</td>\n",
       "      <td>18.95</td>\n",
       "      <td>3.409091</td>\n",
       "    </tr>\n",
       "    <tr>\n",
       "      <th>3</th>\n",
       "      <td>1</td>\n",
       "      <td>2017-01-15 22:27:57</td>\n",
       "      <td>2017-01-15 22:35:01</td>\n",
       "      <td>1</td>\n",
       "      <td>1.00</td>\n",
       "      <td>1</td>\n",
       "      <td>107</td>\n",
       "      <td>170</td>\n",
       "      <td>1</td>\n",
       "      <td>6.5</td>\n",
       "      <td>0.5</td>\n",
       "      <td>0.5</td>\n",
       "      <td>1.00</td>\n",
       "      <td>0.00</td>\n",
       "      <td>0.3</td>\n",
       "      <td>8.80</td>\n",
       "      <td>6.500000</td>\n",
       "    </tr>\n",
       "    <tr>\n",
       "      <th>4</th>\n",
       "      <td>1</td>\n",
       "      <td>2017-01-16 18:13:08</td>\n",
       "      <td>2017-01-16 18:32:44</td>\n",
       "      <td>2</td>\n",
       "      <td>5.20</td>\n",
       "      <td>1</td>\n",
       "      <td>41</td>\n",
       "      <td>143</td>\n",
       "      <td>2</td>\n",
       "      <td>19.0</td>\n",
       "      <td>0.0</td>\n",
       "      <td>0.5</td>\n",
       "      <td>0.00</td>\n",
       "      <td>0.00</td>\n",
       "      <td>0.3</td>\n",
       "      <td>19.80</td>\n",
       "      <td>3.653846</td>\n",
       "    </tr>\n",
       "  </tbody>\n",
       "</table>\n",
       "</div>"
      ],
      "text/plain": [
       "   vendor_ID tpep_pickup_datetime tpep_dropoff_datetime  passenger_count  \\\n",
       "0          2  2017-01-16 16:29:48   2017-01-16 16:46:45                6   \n",
       "1          2  2017-01-14 23:01:43   2017-01-14 23:37:37                1   \n",
       "2          1  2017-01-01 11:28:26   2017-01-01 11:39:38                2   \n",
       "3          1  2017-01-15 22:27:57   2017-01-15 22:35:01                1   \n",
       "4          1  2017-01-16 18:13:08   2017-01-16 18:32:44                2   \n",
       "\n",
       "   trip_distance  rate_code_ID  pu_location_ID  do_location_ID  payment_type  \\\n",
       "0           3.94             1             237             151             2   \n",
       "1          19.49             2             141             132             1   \n",
       "2           4.40             1             261             148             1   \n",
       "3           1.00             1             107             170             1   \n",
       "4           5.20             1              41             143             2   \n",
       "\n",
       "   fare_amount  extra  mta_tax  tip_amount  tolls_amount  \\\n",
       "0         16.0    0.0      0.5        0.00          0.00   \n",
       "1         52.0    0.0      0.5       10.00          5.54   \n",
       "2         15.0    0.0      0.5        3.15          0.00   \n",
       "3          6.5    0.5      0.5        1.00          0.00   \n",
       "4         19.0    0.0      0.5        0.00          0.00   \n",
       "\n",
       "   improvement_surcharge  total_amount  cost_per_mile  \n",
       "0                    0.3         16.80       4.060914  \n",
       "1                    0.3         68.34       2.668035  \n",
       "2                    0.3         18.95       3.409091  \n",
       "3                    0.3          8.80       6.500000  \n",
       "4                    0.3         19.80       3.653846  "
      ]
     },
     "execution_count": 37,
     "metadata": {},
     "output_type": "execute_result"
    }
   ],
   "source": [
    "YelTax_2017_1sthalf.head()"
   ]
  },
  {
   "cell_type": "markdown",
   "metadata": {},
   "source": [
    "As the primary purpose of this analysis is to predict fares, I remove unusual cases, as well as no charges and disputes. I also remove anything less than 0 for fare amount. As unusual costs per mile were revealed, I infer that anything above 20 for cost per mile is an outlier. "
   ]
  },
  {
   "cell_type": "code",
   "execution_count": 38,
   "metadata": {},
   "outputs": [
    {
     "data": {
      "text/html": [
       "<div>\n",
       "<style scoped>\n",
       "    .dataframe tbody tr th:only-of-type {\n",
       "        vertical-align: middle;\n",
       "    }\n",
       "\n",
       "    .dataframe tbody tr th {\n",
       "        vertical-align: top;\n",
       "    }\n",
       "\n",
       "    .dataframe thead th {\n",
       "        text-align: right;\n",
       "    }\n",
       "</style>\n",
       "<table border=\"1\" class=\"dataframe\">\n",
       "  <thead>\n",
       "    <tr style=\"text-align: right;\">\n",
       "      <th></th>\n",
       "      <th>vendor_ID</th>\n",
       "      <th>passenger_count</th>\n",
       "      <th>trip_distance</th>\n",
       "      <th>rate_code_ID</th>\n",
       "      <th>pu_location_ID</th>\n",
       "      <th>do_location_ID</th>\n",
       "      <th>payment_type</th>\n",
       "      <th>fare_amount</th>\n",
       "      <th>extra</th>\n",
       "      <th>mta_tax</th>\n",
       "      <th>tip_amount</th>\n",
       "      <th>tolls_amount</th>\n",
       "      <th>improvement_surcharge</th>\n",
       "      <th>total_amount</th>\n",
       "      <th>cost_per_mile</th>\n",
       "    </tr>\n",
       "  </thead>\n",
       "  <tbody>\n",
       "    <tr>\n",
       "      <th>count</th>\n",
       "      <td>5882.000000</td>\n",
       "      <td>5882.000000</td>\n",
       "      <td>5882.000000</td>\n",
       "      <td>5882.000000</td>\n",
       "      <td>5882.000000</td>\n",
       "      <td>5882.000000</td>\n",
       "      <td>5882.000000</td>\n",
       "      <td>5882.000000</td>\n",
       "      <td>5882.000000</td>\n",
       "      <td>5882.000000</td>\n",
       "      <td>5882.000000</td>\n",
       "      <td>5882.000000</td>\n",
       "      <td>5.882000e+03</td>\n",
       "      <td>5882.000000</td>\n",
       "      <td>5882.000000</td>\n",
       "    </tr>\n",
       "    <tr>\n",
       "      <th>mean</th>\n",
       "      <td>1.551853</td>\n",
       "      <td>1.665250</td>\n",
       "      <td>2.897829</td>\n",
       "      <td>1.031622</td>\n",
       "      <td>162.131758</td>\n",
       "      <td>158.952227</td>\n",
       "      <td>1.326590</td>\n",
       "      <td>12.601836</td>\n",
       "      <td>0.338749</td>\n",
       "      <td>0.498555</td>\n",
       "      <td>1.775595</td>\n",
       "      <td>0.299036</td>\n",
       "      <td>3.000000e-01</td>\n",
       "      <td>15.818438</td>\n",
       "      <td>5.879218</td>\n",
       "    </tr>\n",
       "    <tr>\n",
       "      <th>std</th>\n",
       "      <td>0.497346</td>\n",
       "      <td>1.299541</td>\n",
       "      <td>3.682982</td>\n",
       "      <td>0.231846</td>\n",
       "      <td>66.765117</td>\n",
       "      <td>70.381429</td>\n",
       "      <td>0.469006</td>\n",
       "      <td>11.055863</td>\n",
       "      <td>0.455238</td>\n",
       "      <td>0.026844</td>\n",
       "      <td>2.340182</td>\n",
       "      <td>1.399883</td>\n",
       "      <td>2.992305e-14</td>\n",
       "      <td>13.565780</td>\n",
       "      <td>2.253901</td>\n",
       "    </tr>\n",
       "    <tr>\n",
       "      <th>min</th>\n",
       "      <td>1.000000</td>\n",
       "      <td>1.000000</td>\n",
       "      <td>0.180000</td>\n",
       "      <td>1.000000</td>\n",
       "      <td>4.000000</td>\n",
       "      <td>1.000000</td>\n",
       "      <td>1.000000</td>\n",
       "      <td>3.000000</td>\n",
       "      <td>0.000000</td>\n",
       "      <td>0.000000</td>\n",
       "      <td>0.000000</td>\n",
       "      <td>0.000000</td>\n",
       "      <td>3.000000e-01</td>\n",
       "      <td>3.800000</td>\n",
       "      <td>1.645049</td>\n",
       "    </tr>\n",
       "    <tr>\n",
       "      <th>25%</th>\n",
       "      <td>1.000000</td>\n",
       "      <td>1.000000</td>\n",
       "      <td>1.000000</td>\n",
       "      <td>1.000000</td>\n",
       "      <td>113.000000</td>\n",
       "      <td>107.000000</td>\n",
       "      <td>1.000000</td>\n",
       "      <td>6.500000</td>\n",
       "      <td>0.000000</td>\n",
       "      <td>0.500000</td>\n",
       "      <td>0.000000</td>\n",
       "      <td>0.000000</td>\n",
       "      <td>3.000000e-01</td>\n",
       "      <td>8.300000</td>\n",
       "      <td>4.329430</td>\n",
       "    </tr>\n",
       "    <tr>\n",
       "      <th>50%</th>\n",
       "      <td>2.000000</td>\n",
       "      <td>1.000000</td>\n",
       "      <td>1.620000</td>\n",
       "      <td>1.000000</td>\n",
       "      <td>162.000000</td>\n",
       "      <td>161.000000</td>\n",
       "      <td>1.000000</td>\n",
       "      <td>9.000000</td>\n",
       "      <td>0.000000</td>\n",
       "      <td>0.500000</td>\n",
       "      <td>1.350000</td>\n",
       "      <td>0.000000</td>\n",
       "      <td>3.000000e-01</td>\n",
       "      <td>11.760000</td>\n",
       "      <td>5.454545</td>\n",
       "    </tr>\n",
       "    <tr>\n",
       "      <th>75%</th>\n",
       "      <td>2.000000</td>\n",
       "      <td>2.000000</td>\n",
       "      <td>3.000000</td>\n",
       "      <td>1.000000</td>\n",
       "      <td>233.000000</td>\n",
       "      <td>231.000000</td>\n",
       "      <td>2.000000</td>\n",
       "      <td>14.000000</td>\n",
       "      <td>0.500000</td>\n",
       "      <td>0.500000</td>\n",
       "      <td>2.360000</td>\n",
       "      <td>0.000000</td>\n",
       "      <td>3.000000e-01</td>\n",
       "      <td>17.160000</td>\n",
       "      <td>6.882127</td>\n",
       "    </tr>\n",
       "    <tr>\n",
       "      <th>max</th>\n",
       "      <td>2.000000</td>\n",
       "      <td>6.000000</td>\n",
       "      <td>46.180000</td>\n",
       "      <td>5.000000</td>\n",
       "      <td>265.000000</td>\n",
       "      <td>265.000000</td>\n",
       "      <td>2.000000</td>\n",
       "      <td>250.000000</td>\n",
       "      <td>4.500000</td>\n",
       "      <td>0.500000</td>\n",
       "      <td>27.810000</td>\n",
       "      <td>18.500000</td>\n",
       "      <td>3.000000e-01</td>\n",
       "      <td>266.560000</td>\n",
       "      <td>19.444444</td>\n",
       "    </tr>\n",
       "  </tbody>\n",
       "</table>\n",
       "</div>"
      ],
      "text/plain": [
       "         vendor_ID  passenger_count  trip_distance  rate_code_ID  \\\n",
       "count  5882.000000      5882.000000    5882.000000   5882.000000   \n",
       "mean      1.551853         1.665250       2.897829      1.031622   \n",
       "std       0.497346         1.299541       3.682982      0.231846   \n",
       "min       1.000000         1.000000       0.180000      1.000000   \n",
       "25%       1.000000         1.000000       1.000000      1.000000   \n",
       "50%       2.000000         1.000000       1.620000      1.000000   \n",
       "75%       2.000000         2.000000       3.000000      1.000000   \n",
       "max       2.000000         6.000000      46.180000      5.000000   \n",
       "\n",
       "       pu_location_ID  do_location_ID  payment_type  fare_amount        extra  \\\n",
       "count     5882.000000     5882.000000   5882.000000  5882.000000  5882.000000   \n",
       "mean       162.131758      158.952227      1.326590    12.601836     0.338749   \n",
       "std         66.765117       70.381429      0.469006    11.055863     0.455238   \n",
       "min          4.000000        1.000000      1.000000     3.000000     0.000000   \n",
       "25%        113.000000      107.000000      1.000000     6.500000     0.000000   \n",
       "50%        162.000000      161.000000      1.000000     9.000000     0.000000   \n",
       "75%        233.000000      231.000000      2.000000    14.000000     0.500000   \n",
       "max        265.000000      265.000000      2.000000   250.000000     4.500000   \n",
       "\n",
       "           mta_tax   tip_amount  tolls_amount  improvement_surcharge  \\\n",
       "count  5882.000000  5882.000000   5882.000000           5.882000e+03   \n",
       "mean      0.498555     1.775595      0.299036           3.000000e-01   \n",
       "std       0.026844     2.340182      1.399883           2.992305e-14   \n",
       "min       0.000000     0.000000      0.000000           3.000000e-01   \n",
       "25%       0.500000     0.000000      0.000000           3.000000e-01   \n",
       "50%       0.500000     1.350000      0.000000           3.000000e-01   \n",
       "75%       0.500000     2.360000      0.000000           3.000000e-01   \n",
       "max       0.500000    27.810000     18.500000           3.000000e-01   \n",
       "\n",
       "       total_amount  cost_per_mile  \n",
       "count   5882.000000    5882.000000  \n",
       "mean      15.818438       5.879218  \n",
       "std       13.565780       2.253901  \n",
       "min        3.800000       1.645049  \n",
       "25%        8.300000       4.329430  \n",
       "50%       11.760000       5.454545  \n",
       "75%       17.160000       6.882127  \n",
       "max      266.560000      19.444444  "
      ]
     },
     "execution_count": 38,
     "metadata": {},
     "output_type": "execute_result"
    }
   ],
   "source": [
    "YelTax_2017_1sthalf.replace([np.inf, -np.inf], np.nan)\n",
    "YelTax_2017_1sthalf = YelTax_2017_1sthalf.replace([np.inf, -np.inf], np.nan).dropna()\n",
    "YelTax_2017_1sthalf = YelTax_2017_1sthalf[YelTax_2017_1sthalf.fare_amount > 0] # removing outliers\n",
    "YelTax_2017_1sthalf = YelTax_2017_1sthalf[YelTax_2017_1sthalf.payment_type != 4] # no charge and dispute cases removed\n",
    "YelTax_2017_1sthalf = YelTax_2017_1sthalf[YelTax_2017_1sthalf.payment_type != 3]\n",
    "YelTax_2017_1sthalf = YelTax_2017_1sthalf[YelTax_2017_1sthalf.cost_per_mile < 20] # assumption is anything above 20 per mile is out of the norm\n",
    "YelTax_2017_1sthalf.describe()"
   ]
  },
  {
   "cell_type": "markdown",
   "metadata": {},
   "source": [
    "Initial assumption is that distance has the most correlation with fare amount, let's visualize this. "
   ]
  },
  {
   "cell_type": "code",
   "execution_count": 39,
   "metadata": {},
   "outputs": [
    {
     "data": {
      "image/png": "[encoded data removed]",
      "text/plain": [
       "<Figure size 432x288 with 1 Axes>"
      ]
     },
     "metadata": {},
     "output_type": "display_data"
    }
   ],
   "source": [
    "a = sns.regplot('trip_distance','fare_amount',data = YelTax_2017_1sthalf)"
   ]
  },
  {
   "cell_type": "code",
   "execution_count": 40,
   "metadata": {},
   "outputs": [
    {
     "name": "stdout",
     "output_type": "stream",
     "text": [
      "0.9549662170007814 0.0\n"
     ]
    }
   ],
   "source": [
    "pearson_coef, p_value = stats.pearsonr(YelTax_2017_1sthalf['trip_distance'], YelTax_2017_1sthalf['fare_amount'])\n",
    "print(pearson_coef, p_value)"
   ]
  },
  {
   "cell_type": "markdown",
   "metadata": {},
   "source": [
    "Based on the above chart and pearson correlation analysis, the pearson correlation coefficient and p-value confirm a strong relationship between distance and fare amount. Next I will see if passenger count may impact fare amount. "
   ]
  },
  {
   "cell_type": "code",
   "execution_count": 41,
   "metadata": {},
   "outputs": [
    {
     "name": "stdout",
     "output_type": "stream",
     "text": [
      "0.019853294722594148 0.1278941248889989\n"
     ]
    }
   ],
   "source": [
    "pearson_coef, p_value = stats.pearsonr(YelTax_2017_1sthalf['passenger_count'], YelTax_2017_1sthalf['fare_amount'])\n",
    "print(pearson_coef, p_value)"
   ]
  },
  {
   "cell_type": "markdown",
   "metadata": {},
   "source": [
    "Passenger count has little relationship to fare amount."
   ]
  },
  {
   "cell_type": "code",
   "execution_count": 42,
   "metadata": {},
   "outputs": [
    {
     "data": {
      "image/png": "[encoded data removed]",
      "text/plain": [
       "<Figure size 432x288 with 1 Axes>"
      ]
     },
     "metadata": {},
     "output_type": "display_data"
    }
   ],
   "source": [
    "# Rate code ID vs fare amount\n",
    "b = sns.boxplot(x=\"rate_code_ID\", y=\"fare_amount\", data=YelTax_2017_1sthalf)"
   ]
  },
  {
   "cell_type": "markdown",
   "metadata": {},
   "source": [
    "According to the boxplot, rate codes seem to affect fares by some degree. Let's go into this further."
   ]
  },
  {
   "cell_type": "code",
   "execution_count": 43,
   "metadata": {},
   "outputs": [
    {
     "name": "stdout",
     "output_type": "stream",
     "text": [
      "              fare_amount\n",
      "rate_code_ID             \n",
      "1               11.505403\n",
      "2               52.000000\n",
      "3               65.636364\n",
      "4               68.000000\n",
      "5              107.428571\n"
     ]
    }
   ],
   "source": [
    "# Review the means of each rate code and fare amount. ANOVA test could also be implemented here.\n",
    "rate_test=YelTax_2017_1sthalf[['rate_code_ID','fare_amount']]\n",
    "rate_test=rate_test.groupby(['rate_code_ID'],as_index= True).mean()\n",
    "print(rate_test)"
   ]
  },
  {
   "cell_type": "markdown",
   "metadata": {},
   "source": [
    "The means present an argument for rate codes to be predictors for fare amounts. Let's review this further. "
   ]
  },
  {
   "cell_type": "code",
   "execution_count": 44,
   "metadata": {},
   "outputs": [
    {
     "data": {
      "text/plain": [
       "2.5142558382711813"
      ]
     },
     "execution_count": 44,
     "metadata": {},
     "output_type": "execute_result"
    }
   ],
   "source": [
    "rate_code_1 = YelTax_2017_1sthalf[YelTax_2017_1sthalf.rate_code_ID == 1]\n",
    "rate_code_1.trip_distance.mean()"
   ]
  },
  {
   "cell_type": "code",
   "execution_count": 45,
   "metadata": {},
   "outputs": [
    {
     "data": {
      "text/plain": [
       "5.945738771343789"
      ]
     },
     "execution_count": 45,
     "metadata": {},
     "output_type": "execute_result"
    }
   ],
   "source": [
    "rate_code_1.cost_per_mile.mean()"
   ]
  },
  {
   "cell_type": "markdown",
   "metadata": {},
   "source": [
    "Rate code 1 appears to the the applied rate for standard commutes."
   ]
  },
  {
   "cell_type": "code",
   "execution_count": 46,
   "metadata": {},
   "outputs": [],
   "source": [
    "rate_code_2 = YelTax_2017_1sthalf[YelTax_2017_1sthalf.rate_code_ID == 2]"
   ]
  },
  {
   "cell_type": "code",
   "execution_count": 47,
   "metadata": {},
   "outputs": [
    {
     "data": {
      "text/plain": [
       "17.998181818181816"
      ]
     },
     "execution_count": 47,
     "metadata": {},
     "output_type": "execute_result"
    }
   ],
   "source": [
    "rate_code_2.trip_distance.mean()"
   ]
  },
  {
   "cell_type": "code",
   "execution_count": 48,
   "metadata": {},
   "outputs": [
    {
     "data": {
      "text/plain": [
       "3.0263445321772156"
      ]
     },
     "execution_count": 48,
     "metadata": {},
     "output_type": "execute_result"
    }
   ],
   "source": [
    "rate_code_2.cost_per_mile.mean()"
   ]
  },
  {
   "cell_type": "markdown",
   "metadata": {},
   "source": [
    "Rate code 2 is JFK. The average trip was over 17 miles long in duration. However, the cost per mile mean is lower than the standard rate mean."
   ]
  },
  {
   "cell_type": "code",
   "execution_count": 49,
   "metadata": {},
   "outputs": [],
   "source": [
    "rate_code_3 = YelTax_2017_1sthalf[YelTax_2017_1sthalf.rate_code_ID == 3]"
   ]
  },
  {
   "cell_type": "code",
   "execution_count": 50,
   "metadata": {},
   "outputs": [
    {
     "data": {
      "text/plain": [
       "16.975454545454543"
      ]
     },
     "execution_count": 50,
     "metadata": {},
     "output_type": "execute_result"
    }
   ],
   "source": [
    "rate_code_3.trip_distance.mean()"
   ]
  },
  {
   "cell_type": "code",
   "execution_count": 51,
   "metadata": {},
   "outputs": [
    {
     "data": {
      "text/plain": [
       "3.929528584070658"
      ]
     },
     "execution_count": 51,
     "metadata": {},
     "output_type": "execute_result"
    }
   ],
   "source": [
    "rate_code_3.cost_per_mile.mean()"
   ]
  },
  {
   "cell_type": "markdown",
   "metadata": {},
   "source": [
    "Rate code 3 is negotiated fares, appears to apply to longer trips as well. The cost per mile mean is also lower than the standard rate mean."
   ]
  },
  {
   "cell_type": "code",
   "execution_count": 52,
   "metadata": {},
   "outputs": [
    {
     "data": {
      "text/plain": [
       "20.166000000000004"
      ]
     },
     "execution_count": 52,
     "metadata": {},
     "output_type": "execute_result"
    }
   ],
   "source": [
    "rate_code_4 = YelTax_2017_1sthalf[YelTax_2017_1sthalf.rate_code_ID == 4]\n",
    "rate_code_4.trip_distance.mean()"
   ]
  },
  {
   "cell_type": "code",
   "execution_count": 53,
   "metadata": {},
   "outputs": [
    {
     "data": {
      "text/plain": [
       "3.2729728918194767"
      ]
     },
     "execution_count": 53,
     "metadata": {},
     "output_type": "execute_result"
    }
   ],
   "source": [
    "rate_code_4.cost_per_mile.mean()"
   ]
  },
  {
   "cell_type": "markdown",
   "metadata": {},
   "source": [
    "Rate code 4 also applies to longer trips, and the cost per mile mean is lower than the standard rate mean."
   ]
  },
  {
   "cell_type": "code",
   "execution_count": 54,
   "metadata": {},
   "outputs": [
    {
     "data": {
      "text/plain": [
       "21.841428571428573"
      ]
     },
     "execution_count": 54,
     "metadata": {},
     "output_type": "execute_result"
    }
   ],
   "source": [
    "rate_code_5 = YelTax_2017_1sthalf[YelTax_2017_1sthalf.rate_code_ID == 5]\n",
    "rate_code_5.trip_distance.mean()"
   ]
  },
  {
   "cell_type": "code",
   "execution_count": 55,
   "metadata": {},
   "outputs": [
    {
     "data": {
      "text/plain": [
       "5.5904546899255125"
      ]
     },
     "execution_count": 55,
     "metadata": {},
     "output_type": "execute_result"
    }
   ],
   "source": [
    "rate_code_5.cost_per_mile.mean()"
   ]
  },
  {
   "cell_type": "markdown",
   "metadata": {},
   "source": [
    "Rate code 5 applies to trips to Nassau or Westchester. These are fairly long trips as well. The mean cost per mile is higher than the other categories, however there are only 9 observations in this category. In summary, rate codes 2-5 apply to longer duration trips including to airports. It is assumed that the standard rate is applied to short distance trips. This could be cases such as people going to work, a meeting, or for going to restuarants/nightlife within the city. In conclusion, the rate codes and distance have the most impact on fares. Payment method does not have a significant effect. "
   ]
  },
  {
   "cell_type": "markdown",
   "metadata": {},
   "source": [
    "## Modeling..."
   ]
  },
  {
   "cell_type": "code",
   "execution_count": 57,
   "metadata": {},
   "outputs": [
    {
     "data": {
      "text/plain": [
       "LinearRegression(copy_X=True, fit_intercept=True, n_jobs=1, normalize=False)"
      ]
     },
     "execution_count": 57,
     "metadata": {},
     "output_type": "execute_result"
    }
   ],
   "source": [
    "from sklearn.linear_model import LinearRegression\n",
    "lm = LinearRegression()\n",
    "lm"
   ]
  },
  {
   "cell_type": "markdown",
   "metadata": {},
   "source": [
    "## Linear Regression: Distance against Fare"
   ]
  },
  {
   "cell_type": "code",
   "execution_count": 58,
   "metadata": {},
   "outputs": [
    {
     "data": {
      "text/plain": [
       "LinearRegression(copy_X=True, fit_intercept=True, n_jobs=1, normalize=False)"
      ]
     },
     "execution_count": 58,
     "metadata": {},
     "output_type": "execute_result"
    }
   ],
   "source": [
    "d = YelTax_2017_1sthalf[['trip_distance']] # double brackets for the independent variable\n",
    "e = YelTax_2017_1sthalf['fare_amount']\n",
    "d = d/d.max() # scale the data\n",
    "e = e/e.max()\n",
    "lm.fit(d,e)"
   ]
  },
  {
   "cell_type": "code",
   "execution_count": 59,
   "metadata": {},
   "outputs": [
    {
     "data": {
      "text/plain": [
       "array([0.52953542])"
      ]
     },
     "execution_count": 59,
     "metadata": {},
     "output_type": "execute_result"
    }
   ],
   "source": [
    "lm.coef_ # slope"
   ]
  },
  {
   "cell_type": "code",
   "execution_count": 60,
   "metadata": {},
   "outputs": [
    {
     "data": {
      "text/plain": [
       "0.017178607178900074"
      ]
     },
     "execution_count": 60,
     "metadata": {},
     "output_type": "execute_result"
    }
   ],
   "source": [
    "lm.intercept_ # y intercept"
   ]
  },
  {
   "cell_type": "code",
   "execution_count": 67,
   "metadata": {},
   "outputs": [
    {
     "data": {
      "image/png": "[encoded data removed]",
      "text/plain": [
       "<Figure size 864x720 with 1 Axes>"
      ]
     },
     "metadata": {},
     "output_type": "display_data"
    }
   ],
   "source": [
    "# Linear regression plot\n",
    "width = 12\n",
    "height = 10\n",
    "plt.figure(figsize=(width, height))\n",
    "sns.regplot(d, e, data=YelTax_2017_1sthalf)\n",
    "plt.xlabel('Distance')\n",
    "plt.ylabel('Fare Amount')\n",
    "plt.ylim(0,)\n",
    "plt.show()"
   ]
  },
  {
   "cell_type": "markdown",
   "metadata": {},
   "source": [
    "## Multiple Regression"
   ]
  },
  {
   "cell_type": "code",
   "execution_count": 78,
   "metadata": {},
   "outputs": [],
   "source": [
    "dums = pd.get_dummies(YelTax_2017_1sthalf['rate_code_ID'], prefix = 'rt')"
   ]
  },
  {
   "cell_type": "code",
   "execution_count": 79,
   "metadata": {},
   "outputs": [],
   "source": [
    "td_fa = YelTax_2017_1sthalf[['trip_distance', 'fare_amount']]"
   ]
  },
  {
   "cell_type": "code",
   "execution_count": 80,
   "metadata": {},
   "outputs": [],
   "source": [
    "# scale the data\n",
    "mlr_df = pd.concat([td_fa, dums], axis=1, join_axes=[td_fa.index])\n",
    "mlr_df.head()\n",
    "mlr_df['trip_distance'] = mlr_df['trip_distance']/mlr_df['trip_distance'].max()\n",
    "mlr_df['fare_amount'] = mlr_df['fare_amount']/mlr_df['fare_amount'].max()"
   ]
  },
  {
   "cell_type": "code",
   "execution_count": 81,
   "metadata": {},
   "outputs": [
    {
     "data": {
      "text/html": [
       "<div>\n",
       "<style scoped>\n",
       "    .dataframe tbody tr th:only-of-type {\n",
       "        vertical-align: middle;\n",
       "    }\n",
       "\n",
       "    .dataframe tbody tr th {\n",
       "        vertical-align: top;\n",
       "    }\n",
       "\n",
       "    .dataframe thead th {\n",
       "        text-align: right;\n",
       "    }\n",
       "</style>\n",
       "<table border=\"1\" class=\"dataframe\">\n",
       "  <thead>\n",
       "    <tr style=\"text-align: right;\">\n",
       "      <th></th>\n",
       "      <th>rt_1</th>\n",
       "      <th>rt_2</th>\n",
       "      <th>rt_3</th>\n",
       "      <th>rt_4</th>\n",
       "      <th>trip_distance</th>\n",
       "    </tr>\n",
       "  </thead>\n",
       "  <tbody>\n",
       "    <tr>\n",
       "      <th>0</th>\n",
       "      <td>1</td>\n",
       "      <td>0</td>\n",
       "      <td>0</td>\n",
       "      <td>0</td>\n",
       "      <td>0.085318</td>\n",
       "    </tr>\n",
       "    <tr>\n",
       "      <th>1</th>\n",
       "      <td>0</td>\n",
       "      <td>1</td>\n",
       "      <td>0</td>\n",
       "      <td>0</td>\n",
       "      <td>0.422044</td>\n",
       "    </tr>\n",
       "    <tr>\n",
       "      <th>2</th>\n",
       "      <td>1</td>\n",
       "      <td>0</td>\n",
       "      <td>0</td>\n",
       "      <td>0</td>\n",
       "      <td>0.095279</td>\n",
       "    </tr>\n",
       "    <tr>\n",
       "      <th>3</th>\n",
       "      <td>1</td>\n",
       "      <td>0</td>\n",
       "      <td>0</td>\n",
       "      <td>0</td>\n",
       "      <td>0.021654</td>\n",
       "    </tr>\n",
       "    <tr>\n",
       "      <th>4</th>\n",
       "      <td>1</td>\n",
       "      <td>0</td>\n",
       "      <td>0</td>\n",
       "      <td>0</td>\n",
       "      <td>0.112603</td>\n",
       "    </tr>\n",
       "  </tbody>\n",
       "</table>\n",
       "</div>"
      ],
      "text/plain": [
       "   rt_1  rt_2  rt_3  rt_4  trip_distance\n",
       "0     1     0     0     0       0.085318\n",
       "1     0     1     0     0       0.422044\n",
       "2     1     0     0     0       0.095279\n",
       "3     1     0     0     0       0.021654\n",
       "4     1     0     0     0       0.112603"
      ]
     },
     "execution_count": 81,
     "metadata": {},
     "output_type": "execute_result"
    }
   ],
   "source": [
    "# drop one of the rate codes \n",
    "Z = mlr_df[['rt_1', 'rt_2', 'rt_3', 'rt_4', 'trip_distance']]\n",
    "Z.head()"
   ]
  },
  {
   "cell_type": "code",
   "execution_count": 82,
   "metadata": {},
   "outputs": [
    {
     "data": {
      "text/html": [
       "<div>\n",
       "<style scoped>\n",
       "    .dataframe tbody tr th:only-of-type {\n",
       "        vertical-align: middle;\n",
       "    }\n",
       "\n",
       "    .dataframe tbody tr th {\n",
       "        vertical-align: top;\n",
       "    }\n",
       "\n",
       "    .dataframe thead th {\n",
       "        text-align: right;\n",
       "    }\n",
       "</style>\n",
       "<table border=\"1\" class=\"dataframe\">\n",
       "  <thead>\n",
       "    <tr style=\"text-align: right;\">\n",
       "      <th></th>\n",
       "      <th>rt_1</th>\n",
       "      <th>rt_2</th>\n",
       "      <th>rt_3</th>\n",
       "      <th>rt_4</th>\n",
       "      <th>trip_distance</th>\n",
       "    </tr>\n",
       "  </thead>\n",
       "  <tbody>\n",
       "    <tr>\n",
       "      <th>count</th>\n",
       "      <td>5882.000000</td>\n",
       "      <td>5882.000000</td>\n",
       "      <td>5882.000000</td>\n",
       "      <td>5882.000000</td>\n",
       "      <td>5882.000000</td>\n",
       "    </tr>\n",
       "    <tr>\n",
       "      <th>mean</th>\n",
       "      <td>0.975519</td>\n",
       "      <td>0.020571</td>\n",
       "      <td>0.001870</td>\n",
       "      <td>0.000850</td>\n",
       "      <td>0.062751</td>\n",
       "    </tr>\n",
       "    <tr>\n",
       "      <th>std</th>\n",
       "      <td>0.154552</td>\n",
       "      <td>0.141956</td>\n",
       "      <td>0.043208</td>\n",
       "      <td>0.029146</td>\n",
       "      <td>0.079753</td>\n",
       "    </tr>\n",
       "    <tr>\n",
       "      <th>min</th>\n",
       "      <td>0.000000</td>\n",
       "      <td>0.000000</td>\n",
       "      <td>0.000000</td>\n",
       "      <td>0.000000</td>\n",
       "      <td>0.003898</td>\n",
       "    </tr>\n",
       "    <tr>\n",
       "      <th>25%</th>\n",
       "      <td>1.000000</td>\n",
       "      <td>0.000000</td>\n",
       "      <td>0.000000</td>\n",
       "      <td>0.000000</td>\n",
       "      <td>0.021654</td>\n",
       "    </tr>\n",
       "    <tr>\n",
       "      <th>50%</th>\n",
       "      <td>1.000000</td>\n",
       "      <td>0.000000</td>\n",
       "      <td>0.000000</td>\n",
       "      <td>0.000000</td>\n",
       "      <td>0.035080</td>\n",
       "    </tr>\n",
       "    <tr>\n",
       "      <th>75%</th>\n",
       "      <td>1.000000</td>\n",
       "      <td>0.000000</td>\n",
       "      <td>0.000000</td>\n",
       "      <td>0.000000</td>\n",
       "      <td>0.064963</td>\n",
       "    </tr>\n",
       "    <tr>\n",
       "      <th>max</th>\n",
       "      <td>1.000000</td>\n",
       "      <td>1.000000</td>\n",
       "      <td>1.000000</td>\n",
       "      <td>1.000000</td>\n",
       "      <td>1.000000</td>\n",
       "    </tr>\n",
       "  </tbody>\n",
       "</table>\n",
       "</div>"
      ],
      "text/plain": [
       "              rt_1         rt_2         rt_3         rt_4  trip_distance\n",
       "count  5882.000000  5882.000000  5882.000000  5882.000000    5882.000000\n",
       "mean      0.975519     0.020571     0.001870     0.000850       0.062751\n",
       "std       0.154552     0.141956     0.043208     0.029146       0.079753\n",
       "min       0.000000     0.000000     0.000000     0.000000       0.003898\n",
       "25%       1.000000     0.000000     0.000000     0.000000       0.021654\n",
       "50%       1.000000     0.000000     0.000000     0.000000       0.035080\n",
       "75%       1.000000     0.000000     0.000000     0.000000       0.064963\n",
       "max       1.000000     1.000000     1.000000     1.000000       1.000000"
      ]
     },
     "execution_count": 82,
     "metadata": {},
     "output_type": "execute_result"
    }
   ],
   "source": [
    "Z.describe()"
   ]
  },
  {
   "cell_type": "code",
   "execution_count": 83,
   "metadata": {},
   "outputs": [],
   "source": [
    "Y = mlr_df['fare_amount']"
   ]
  },
  {
   "cell_type": "code",
   "execution_count": 84,
   "metadata": {},
   "outputs": [],
   "source": [
    "#Backwards elimination\n",
    "import statsmodels.formula.api as sm\n",
    "# Added a column of 1's for backward elimination process\n",
    "X = np.append(arr = np.ones((5882,1)).astype(int), values = Z, axis = 1)"
   ]
  },
  {
   "cell_type": "code",
   "execution_count": 85,
   "metadata": {},
   "outputs": [
    {
     "data": {
      "text/plain": [
       "array([[1.        , 1.        , 0.        , 0.        , 0.        ,\n",
       "        0.08531832],\n",
       "       [1.        , 0.        , 1.        , 0.        , 0.        ,\n",
       "        0.42204417]])"
      ]
     },
     "execution_count": 85,
     "metadata": {},
     "output_type": "execute_result"
    }
   ],
   "source": [
    "X[0:2]"
   ]
  },
  {
   "cell_type": "code",
   "execution_count": 86,
   "metadata": {},
   "outputs": [
    {
     "data": {
      "text/html": [
       "<table class=\"simpletable\">\n",
       "<caption>OLS Regression Results</caption>\n",
       "<tr>\n",
       "  <th>Dep. Variable:</th>       <td>fare_amount</td>   <th>  R-squared:         </th>  <td>   0.933</td> \n",
       "</tr>\n",
       "<tr>\n",
       "  <th>Model:</th>                   <td>OLS</td>       <th>  Adj. R-squared:    </th>  <td>   0.933</td> \n",
       "</tr>\n",
       "<tr>\n",
       "  <th>Method:</th>             <td>Least Squares</td>  <th>  F-statistic:       </th>  <td>1.642e+04</td>\n",
       "</tr>\n",
       "<tr>\n",
       "  <th>Date:</th>             <td>Wed, 19 Dec 2018</td> <th>  Prob (F-statistic):</th>   <td>  0.00</td>  \n",
       "</tr>\n",
       "<tr>\n",
       "  <th>Time:</th>                 <td>12:19:21</td>     <th>  Log-Likelihood:    </th>  <td>  17956.</td> \n",
       "</tr>\n",
       "<tr>\n",
       "  <th>No. Observations:</th>      <td>  5882</td>      <th>  AIC:               </th> <td>-3.590e+04</td>\n",
       "</tr>\n",
       "<tr>\n",
       "  <th>Df Residuals:</th>          <td>  5876</td>      <th>  BIC:               </th> <td>-3.586e+04</td>\n",
       "</tr>\n",
       "<tr>\n",
       "  <th>Df Model:</th>              <td>     5</td>      <th>                     </th>      <td> </td>    \n",
       "</tr>\n",
       "<tr>\n",
       "  <th>Covariance Type:</th>      <td>nonrobust</td>    <th>                     </th>      <td> </td>    \n",
       "</tr>\n",
       "</table>\n",
       "<table class=\"simpletable\">\n",
       "<tr>\n",
       "    <td></td>       <th>coef</th>     <th>std err</th>      <th>t</th>      <th>P>|t|</th>  <th>[0.025</th>    <th>0.975]</th>  \n",
       "</tr>\n",
       "<tr>\n",
       "  <th>const</th> <td>    0.1807</td> <td>    0.004</td> <td>   40.345</td> <td> 0.000</td> <td>    0.172</td> <td>    0.189</td>\n",
       "</tr>\n",
       "<tr>\n",
       "  <th>x1</th>    <td>   -0.1633</td> <td>    0.004</td> <td>  -36.724</td> <td> 0.000</td> <td>   -0.172</td> <td>   -0.155</td>\n",
       "</tr>\n",
       "<tr>\n",
       "  <th>x2</th>    <td>   -0.1779</td> <td>    0.004</td> <td>  -39.981</td> <td> 0.000</td> <td>   -0.187</td> <td>   -0.169</td>\n",
       "</tr>\n",
       "<tr>\n",
       "  <th>x3</th>    <td>   -0.1117</td> <td>    0.006</td> <td>  -20.181</td> <td> 0.000</td> <td>   -0.123</td> <td>   -0.101</td>\n",
       "</tr>\n",
       "<tr>\n",
       "  <th>x4</th>    <td>   -0.1386</td> <td>    0.007</td> <td>  -20.703</td> <td> 0.000</td> <td>   -0.152</td> <td>   -0.125</td>\n",
       "</tr>\n",
       "<tr>\n",
       "  <th>x5</th>    <td>    0.5265</td> <td>    0.002</td> <td>  211.910</td> <td> 0.000</td> <td>    0.522</td> <td>    0.531</td>\n",
       "</tr>\n",
       "</table>\n",
       "<table class=\"simpletable\">\n",
       "<tr>\n",
       "  <th>Omnibus:</th>       <td>5400.672</td> <th>  Durbin-Watson:     </th>  <td>   1.974</td>  \n",
       "</tr>\n",
       "<tr>\n",
       "  <th>Prob(Omnibus):</th>  <td> 0.000</td>  <th>  Jarque-Bera (JB):  </th> <td>2798939.225</td>\n",
       "</tr>\n",
       "<tr>\n",
       "  <th>Skew:</th>           <td> 3.478</td>  <th>  Prob(JB):          </th>  <td>    0.00</td>  \n",
       "</tr>\n",
       "<tr>\n",
       "  <th>Kurtosis:</th>       <td>109.639</td> <th>  Cond. No.          </th>  <td>    95.9</td>  \n",
       "</tr>\n",
       "</table>"
      ],
      "text/plain": [
       "<class 'statsmodels.iolib.summary.Summary'>\n",
       "\"\"\"\n",
       "                            OLS Regression Results                            \n",
       "==============================================================================\n",
       "Dep. Variable:            fare_amount   R-squared:                       0.933\n",
       "Model:                            OLS   Adj. R-squared:                  0.933\n",
       "Method:                 Least Squares   F-statistic:                 1.642e+04\n",
       "Date:                Wed, 19 Dec 2018   Prob (F-statistic):               0.00\n",
       "Time:                        12:19:21   Log-Likelihood:                 17956.\n",
       "No. Observations:                5882   AIC:                        -3.590e+04\n",
       "Df Residuals:                    5876   BIC:                        -3.586e+04\n",
       "Df Model:                           5                                         \n",
       "Covariance Type:            nonrobust                                         \n",
       "==============================================================================\n",
       "                 coef    std err          t      P>|t|      [0.025      0.975]\n",
       "------------------------------------------------------------------------------\n",
       "const          0.1807      0.004     40.345      0.000       0.172       0.189\n",
       "x1            -0.1633      0.004    -36.724      0.000      -0.172      -0.155\n",
       "x2            -0.1779      0.004    -39.981      0.000      -0.187      -0.169\n",
       "x3            -0.1117      0.006    -20.181      0.000      -0.123      -0.101\n",
       "x4            -0.1386      0.007    -20.703      0.000      -0.152      -0.125\n",
       "x5             0.5265      0.002    211.910      0.000       0.522       0.531\n",
       "==============================================================================\n",
       "Omnibus:                     5400.672   Durbin-Watson:                   1.974\n",
       "Prob(Omnibus):                  0.000   Jarque-Bera (JB):          2798939.225\n",
       "Skew:                           3.478   Prob(JB):                         0.00\n",
       "Kurtosis:                     109.639   Cond. No.                         95.9\n",
       "==============================================================================\n",
       "\n",
       "Warnings:\n",
       "[1] Standard Errors assume that the covariance matrix of the errors is correctly specified.\n",
       "\"\"\""
      ]
     },
     "execution_count": 86,
     "metadata": {},
     "output_type": "execute_result"
    }
   ],
   "source": [
    "X_opt = X[:, [0,1,2,3,4,5]]\n",
    "regressor_OLS = sm.OLS(endog = Y, exog = X_opt).fit() # fit OLS to X_opt and Y\n",
    "regressor_OLS.summary()"
   ]
  },
  {
   "cell_type": "markdown",
   "metadata": {},
   "source": [
    "The independent variables appear reliable. No elimination is needed. "
   ]
  },
  {
   "cell_type": "code",
   "execution_count": 87,
   "metadata": {},
   "outputs": [
    {
     "name": "stderr",
     "output_type": "stream",
     "text": [
      "C:\\Users\\martl\\Anaconda3\\lib\\site-packages\\sklearn\\cross_validation.py:41: DeprecationWarning: This module was deprecated in version 0.18 in favor of the model_selection module into which all the refactored classes and functions are moved. Also note that the interface of the new CV iterators are different from that of this module. This module will be removed in 0.20.\n",
      "  \"This module will be removed in 0.20.\", DeprecationWarning)\n"
     ]
    }
   ],
   "source": [
    "from sklearn.cross_validation import train_test_split\n",
    "X_train, X_test, Y_train, Y_test = train_test_split(Z, Y, test_size = 0.2, random_state = 0) # X is indepdent var, Y is dependen"
   ]
  },
  {
   "cell_type": "code",
   "execution_count": 88,
   "metadata": {},
   "outputs": [
    {
     "data": {
      "text/plain": [
       "LinearRegression(copy_X=True, fit_intercept=True, n_jobs=1, normalize=False)"
      ]
     },
     "execution_count": 88,
     "metadata": {},
     "output_type": "execute_result"
    }
   ],
   "source": [
    "#Fitting MLR to the trng set\n",
    "from sklearn.linear_model import LinearRegression\n",
    "regressor = LinearRegression()\n",
    "regressor.fit(X_train, Y_train)"
   ]
  },
  {
   "cell_type": "code",
   "execution_count": 89,
   "metadata": {},
   "outputs": [
    {
     "data": {
      "text/plain": [
       "array([0.03950421, 0.20052035, 0.03328025, 0.05172161, 0.1960208 ])"
      ]
     },
     "execution_count": 89,
     "metadata": {},
     "output_type": "execute_result"
    }
   ],
   "source": [
    "# Predicted results\n",
    "Y_pred = regressor.predict(X_test) # predict observations from test set\n",
    "Y_pred[:5]"
   ]
  },
  {
   "cell_type": "code",
   "execution_count": 90,
   "metadata": {},
   "outputs": [
    {
     "data": {
      "text/plain": [
       "1579    0.052\n",
       "1355    0.180\n",
       "1191    0.036\n",
       "3898    0.058\n",
       "4825    0.208\n",
       "Name: fare_amount, dtype: float64"
      ]
     },
     "execution_count": 90,
     "metadata": {},
     "output_type": "execute_result"
    }
   ],
   "source": [
    "# Actual results\n",
    "Y_test[:5]"
   ]
  },
  {
   "cell_type": "markdown",
   "metadata": {},
   "source": [
    "The predictions are fair. "
   ]
  },
  {
   "cell_type": "code",
   "execution_count": 92,
   "metadata": {},
   "outputs": [
    {
     "data": {
      "text/plain": [
       "LinearRegression(copy_X=True, fit_intercept=True, n_jobs=1, normalize=False)"
      ]
     },
     "execution_count": 92,
     "metadata": {},
     "output_type": "execute_result"
    }
   ],
   "source": [
    "lm.fit(Z, Y)"
   ]
  },
  {
   "cell_type": "code",
   "execution_count": 93,
   "metadata": {},
   "outputs": [
    {
     "data": {
      "text/plain": [
       "0.18067859710865639"
      ]
     },
     "execution_count": 93,
     "metadata": {},
     "output_type": "execute_result"
    }
   ],
   "source": [
    "lm.intercept_"
   ]
  },
  {
   "cell_type": "code",
   "execution_count": 94,
   "metadata": {},
   "outputs": [
    {
     "data": {
      "text/plain": [
       "array([-0.1633245 , -0.17789364, -0.11168706, -0.13861107,  0.52654377])"
      ]
     },
     "execution_count": 94,
     "metadata": {},
     "output_type": "execute_result"
    }
   ],
   "source": [
    "lm.coef_"
   ]
  },
  {
   "cell_type": "code",
   "execution_count": 95,
   "metadata": {},
   "outputs": [],
   "source": [
    "# Y_hat = lm.predict(Z)\n",
    "Y_hat = Y_pred # using the train/test setup"
   ]
  },
  {
   "cell_type": "code",
   "execution_count": 96,
   "metadata": {},
   "outputs": [
    {
     "data": {
      "image/png": "[encoded data removed]",
      "text/plain": [
       "<Figure size 576x360 with 1 Axes>"
      ]
     },
     "metadata": {},
     "output_type": "display_data"
    }
   ],
   "source": [
    "# plt.figure() # using the train test sets to plot\n",
    "\n",
    "fig = plt.figure(figsize = (8,5))\n",
    "ax1 = sns.distplot(Y_test, hist=False, color=\"r\", label=\"Actual Fare (test set)\")\n",
    "# ax1 = sns.distplot(YelTax_2017_1sthalf['fare_amount'], hist=False, color=\"r\", label=\"Actual Fare (test set)\") # not using train/test\n",
    "sns.distplot(Y_hat, hist=False, color=\"b\", label=\"Fitted Values\" , ax=ax1)\n",
    "\n",
    "\n",
    "plt.title('Actual vs Fitted Values for Fare Amount (test)')\n",
    "plt.xlabel('Fare')\n",
    "plt.ylabel('Proportion')\n",
    "\n",
    "plt.show()\n",
    "plt.close()"
   ]
  },
  {
   "cell_type": "markdown",
   "metadata": {},
   "source": [
    "MLR results, not too bad."
   ]
  },
  {
   "cell_type": "markdown",
   "metadata": {},
   "source": [
    "## Polynomial Regression..."
   ]
  },
  {
   "cell_type": "code",
   "execution_count": 98,
   "metadata": {},
   "outputs": [],
   "source": [
    "# Polynomial regression plot\n",
    "def PlotPolly(model,independent_variable,dependent_variable, Name):\n",
    "    x_new = np.linspace(0, 1, 100)\n",
    "    y_new = model(x_new)\n",
    "\n",
    "    plt.plot(independent_variable,dependent_variable,'.', x_new, y_new, '-')\n",
    "    plt.title('Polynomial Fit')\n",
    "    ax = plt.gca()\n",
    "#     ax.set_axis_bgcolor((0.898, 0.898, 0.898))\n",
    "    fig = plt.gcf()\n",
    "    plt.xlabel(Name)\n",
    "    plt.ylabel('Fare Amount')\n",
    "\n",
    "    plt.show()\n",
    "    plt.close()"
   ]
  },
  {
   "cell_type": "code",
   "execution_count": 99,
   "metadata": {},
   "outputs": [],
   "source": [
    "x = YelTax_2017_1sthalf['trip_distance']\n",
    "y = YelTax_2017_1sthalf['fare_amount']\n",
    "x = x/x.max()\n",
    "y = y/y.max()"
   ]
  },
  {
   "cell_type": "code",
   "execution_count": 100,
   "metadata": {},
   "outputs": [
    {
     "name": "stdout",
     "output_type": "stream",
     "text": [
      "     3         2\n",
      "1.4 x - 1.185 x + 0.7514 x + 0.01112\n"
     ]
    }
   ],
   "source": [
    "f = np.polyfit(x, y, 3)\n",
    "p = np.poly1d(f)\n",
    "print(p)"
   ]
  },
  {
   "cell_type": "code",
   "execution_count": 101,
   "metadata": {},
   "outputs": [
    {
     "data": {
      "image/png": "[encoded data removed]",
      "text/plain": [
       "<Figure size 432x288 with 1 Axes>"
      ]
     },
     "metadata": {},
     "output_type": "display_data"
    }
   ],
   "source": [
    "PlotPolly(p,x,y, 'trip_distance')"
   ]
  },
  {
   "cell_type": "code",
   "execution_count": 102,
   "metadata": {},
   "outputs": [],
   "source": [
    "from sklearn.pipeline import Pipeline\n",
    "from sklearn.preprocessing import StandardScaler\n",
    "from sklearn.preprocessing import PolynomialFeatures\n",
    "from sklearn.metrics import mean_squared_error\n",
    "from sklearn.metrics import r2_score"
   ]
  },
  {
   "cell_type": "code",
   "execution_count": 103,
   "metadata": {},
   "outputs": [
    {
     "data": {
      "text/plain": [
       "PolynomialFeatures(degree=2, include_bias=True, interaction_only=False)"
      ]
     },
     "execution_count": 103,
     "metadata": {},
     "output_type": "execute_result"
    }
   ],
   "source": [
    "pr=PolynomialFeatures(degree=2)\n",
    "pr"
   ]
  },
  {
   "cell_type": "markdown",
   "metadata": {},
   "source": [
    "## Evaluate the Models"
   ]
  },
  {
   "cell_type": "markdown",
   "metadata": {},
   "source": [
    "Linear Regression..."
   ]
  },
  {
   "cell_type": "code",
   "execution_count": 104,
   "metadata": {},
   "outputs": [
    {
     "data": {
      "text/plain": [
       "0.9119604756127838"
      ]
     },
     "execution_count": 104,
     "metadata": {},
     "output_type": "execute_result"
    }
   ],
   "source": [
    "#highway_mpg_fit\n",
    "lm.fit(d, e)\n",
    "# Find the R^2\n",
    "lm.score(d, e)"
   ]
  },
  {
   "cell_type": "code",
   "execution_count": 105,
   "metadata": {},
   "outputs": [],
   "source": [
    "Yhat=lm.predict(d)"
   ]
  },
  {
   "cell_type": "code",
   "execution_count": 106,
   "metadata": {},
   "outputs": [
    {
     "data": {
      "text/plain": [
       "0.00017215082761549115"
      ]
     },
     "execution_count": 106,
     "metadata": {},
     "output_type": "execute_result"
    }
   ],
   "source": [
    "mean_squared_error(e, Yhat)"
   ]
  },
  {
   "cell_type": "markdown",
   "metadata": {},
   "source": [
    "MLR..."
   ]
  },
  {
   "cell_type": "code",
   "execution_count": 107,
   "metadata": {},
   "outputs": [
    {
     "data": {
      "text/plain": [
       "0.9332146901167924"
      ]
     },
     "execution_count": 107,
     "metadata": {},
     "output_type": "execute_result"
    }
   ],
   "source": [
    "# fit the model \n",
    "lm.fit(Z, Y)\n",
    "# Find the R^2\n",
    "lm.score(Z, Y)"
   ]
  },
  {
   "cell_type": "code",
   "execution_count": 108,
   "metadata": {},
   "outputs": [],
   "source": [
    "Y_predict_multifit = lm.predict(Z)"
   ]
  },
  {
   "cell_type": "code",
   "execution_count": 109,
   "metadata": {},
   "outputs": [
    {
     "data": {
      "text/plain": [
       "0.00013059073693292975"
      ]
     },
     "execution_count": 109,
     "metadata": {},
     "output_type": "execute_result"
    }
   ],
   "source": [
    "mean_squared_error(Y, Y_predict_multifit)"
   ]
  },
  {
   "cell_type": "markdown",
   "metadata": {},
   "source": [
    "Polynomial Regression..."
   ]
  },
  {
   "cell_type": "code",
   "execution_count": 112,
   "metadata": {},
   "outputs": [
    {
     "data": {
      "text/plain": [
       "0.937625407081988"
      ]
     },
     "execution_count": 112,
     "metadata": {},
     "output_type": "execute_result"
    }
   ],
   "source": [
    "r_squared = r2_score(e, p(x))\n",
    "r_squared"
   ]
  },
  {
   "cell_type": "code",
   "execution_count": 113,
   "metadata": {},
   "outputs": [
    {
     "data": {
      "text/plain": [
       "0.0001219661040623964"
      ]
     },
     "execution_count": 113,
     "metadata": {},
     "output_type": "execute_result"
    }
   ],
   "source": [
    "mean_squared_error(e, p(x))"
   ]
  },
  {
   "cell_type": "markdown",
   "metadata": {},
   "source": [
    "## Polynomial regression is the model of choice according to the r-squared and MSE. "
   ]
  }
 ],
 "metadata": {
  "kernelspec": {
   "display_name": "Python 3",
   "language": "python",
   "name": "python3"
  },
  "language_info": {
   "codemirror_mode": {
    "name": "ipython",
    "version": 3
   },
   "file_extension": ".py",
   "mimetype": "text/x-python",
   "name": "python",
   "nbconvert_exporter": "python",
   "pygments_lexer": "ipython3",
   "version": "3.7.3"
  }
 },
 "nbformat": 4,
 "nbformat_minor": 2
}
